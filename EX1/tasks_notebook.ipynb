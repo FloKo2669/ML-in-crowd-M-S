{
 "cells": [
  {
   "cell_type": "markdown",
   "metadata": {},
   "source": [
    "# MACHINE LEARNING FOR CROWD MODELLING AND SIMULATION"
   ]
  },
  {
   "cell_type": "code",
   "execution_count": 1,
   "metadata": {},
   "outputs": [],
   "source": [
    "from tkinter import *\n",
    "from utils import *"
   ]
  },
  {
   "cell_type": "markdown",
   "metadata": {},
   "source": [
    "## TASK 1\n",
    "\n",
    "Setting up the model environment: by executing the snippet below it is possible to view the modelling environment, add pedestrians in cells as well as targets and obstacles. It is possible to move pedestrians:\n",
    "    - put a pedestrian (or more!) in the scenario\n",
    "    - click on Free Walk\n",
    "    - move the pedestrian with WASD or key arrows"
   ]
  },
  {
   "cell_type": "code",
   "execution_count": 3,
   "metadata": {},
   "outputs": [
    {
     "name": "stdout",
     "output_type": "stream",
     "text": [
      "Entering simulation mode..\n",
      "Entering simulation mode..\n",
      "Entering simulation mode..\n",
      "Entering simulation mode..\n",
      "Entering simulation mode..\n",
      "Entering simulation mode..\n",
      "Entering simulation mode..\n",
      "Entering simulation mode..\n",
      "Entering simulation mode..\n"
     ]
    },
    {
     "name": "stderr",
     "output_type": "stream",
     "text": [
      "Exception in Tkinter callback\n",
      "Traceback (most recent call last):\n",
      "  File \"/opt/anaconda3/envs/mypytorch/lib/python3.7/tkinter/__init__.py\", line 1705, in __call__\n",
      "    return self.func(*args)\n",
      "  File \"/Users/hujiaxin/Desktop/MLCMS-exercises-main/EX1/grid.py\", line 301, in start_simulation\n",
      "    planning_grid, pedestrian_has_ended = pedestrian.move()  # try to move (time constraints)\n",
      "  File \"/Users/hujiaxin/Desktop/MLCMS-exercises-main/EX1/pedestrian.py\", line 255, in move\n",
      "    self.actuate_move(self.planning_grid.grid, self.delta_row, self.delta_col, planning=True)\n",
      "  File \"/Users/hujiaxin/Desktop/MLCMS-exercises-main/EX1/pedestrian.py\", line 225, in actuate_move\n",
      "    (self.row + self.delta_row, self.col + self.delta_col))\n",
      "  File \"/Users/hujiaxin/Desktop/MLCMS-exercises-main/EX1/planning_grid.py\", line 49, in update_pedestrian_list\n",
      "    self.pedestrian_list.remove(old_coord)\n",
      "ValueError: list.remove(x): x not in list\n",
      "Exception in Tkinter callback\n",
      "Traceback (most recent call last):\n",
      "  File \"/opt/anaconda3/envs/mypytorch/lib/python3.7/tkinter/__init__.py\", line 1705, in __call__\n",
      "    return self.func(*args)\n",
      "  File \"/Users/hujiaxin/Desktop/MLCMS-exercises-main/EX1/grid.py\", line 301, in start_simulation\n",
      "    planning_grid, pedestrian_has_ended = pedestrian.move()  # try to move (time constraints)\n",
      "  File \"/Users/hujiaxin/Desktop/MLCMS-exercises-main/EX1/pedestrian.py\", line 255, in move\n",
      "    self.actuate_move(self.planning_grid.grid, self.delta_row, self.delta_col, planning=True)\n",
      "  File \"/Users/hujiaxin/Desktop/MLCMS-exercises-main/EX1/pedestrian.py\", line 225, in actuate_move\n",
      "    (self.row + self.delta_row, self.col + self.delta_col))\n",
      "  File \"/Users/hujiaxin/Desktop/MLCMS-exercises-main/EX1/planning_grid.py\", line 49, in update_pedestrian_list\n",
      "    self.pedestrian_list.remove(old_coord)\n",
      "ValueError: list.remove(x): x not in list\n",
      "Exception in Tkinter callback\n",
      "Traceback (most recent call last):\n",
      "  File \"/opt/anaconda3/envs/mypytorch/lib/python3.7/tkinter/__init__.py\", line 1705, in __call__\n",
      "    return self.func(*args)\n",
      "  File \"/Users/hujiaxin/Desktop/MLCMS-exercises-main/EX1/grid.py\", line 301, in start_simulation\n",
      "    planning_grid, pedestrian_has_ended = pedestrian.move()  # try to move (time constraints)\n",
      "  File \"/Users/hujiaxin/Desktop/MLCMS-exercises-main/EX1/pedestrian.py\", line 255, in move\n",
      "    self.actuate_move(self.planning_grid.grid, self.delta_row, self.delta_col, planning=True)\n",
      "  File \"/Users/hujiaxin/Desktop/MLCMS-exercises-main/EX1/pedestrian.py\", line 225, in actuate_move\n",
      "    (self.row + self.delta_row, self.col + self.delta_col))\n",
      "  File \"/Users/hujiaxin/Desktop/MLCMS-exercises-main/EX1/planning_grid.py\", line 49, in update_pedestrian_list\n",
      "    self.pedestrian_list.remove(old_coord)\n",
      "ValueError: list.remove(x): x not in list\n",
      "Exception in Tkinter callback\n",
      "Traceback (most recent call last):\n",
      "  File \"/opt/anaconda3/envs/mypytorch/lib/python3.7/tkinter/__init__.py\", line 1705, in __call__\n",
      "    return self.func(*args)\n",
      "  File \"/Users/hujiaxin/Desktop/MLCMS-exercises-main/EX1/grid.py\", line 301, in start_simulation\n",
      "    planning_grid, pedestrian_has_ended = pedestrian.move()  # try to move (time constraints)\n",
      "  File \"/Users/hujiaxin/Desktop/MLCMS-exercises-main/EX1/pedestrian.py\", line 255, in move\n",
      "    self.actuate_move(self.planning_grid.grid, self.delta_row, self.delta_col, planning=True)\n",
      "  File \"/Users/hujiaxin/Desktop/MLCMS-exercises-main/EX1/pedestrian.py\", line 225, in actuate_move\n",
      "    (self.row + self.delta_row, self.col + self.delta_col))\n",
      "  File \"/Users/hujiaxin/Desktop/MLCMS-exercises-main/EX1/planning_grid.py\", line 49, in update_pedestrian_list\n",
      "    self.pedestrian_list.remove(old_coord)\n",
      "ValueError: list.remove(x): x not in list\n"
     ]
    },
    {
     "name": "stdout",
     "output_type": "stream",
     "text": [
      "Entering simulation mode..\n"
     ]
    },
    {
     "name": "stderr",
     "output_type": "stream",
     "text": [
      "Exception in Tkinter callback\n",
      "Traceback (most recent call last):\n",
      "  File \"/opt/anaconda3/envs/mypytorch/lib/python3.7/tkinter/__init__.py\", line 1705, in __call__\n",
      "    return self.func(*args)\n",
      "  File \"/Users/hujiaxin/Desktop/MLCMS-exercises-main/EX1/grid.py\", line 301, in start_simulation\n",
      "    planning_grid, pedestrian_has_ended = pedestrian.move()  # try to move (time constraints)\n",
      "  File \"/Users/hujiaxin/Desktop/MLCMS-exercises-main/EX1/pedestrian.py\", line 255, in move\n",
      "    self.actuate_move(self.planning_grid.grid, self.delta_row, self.delta_col, planning=True)\n",
      "  File \"/Users/hujiaxin/Desktop/MLCMS-exercises-main/EX1/pedestrian.py\", line 225, in actuate_move\n",
      "    (self.row + self.delta_row, self.col + self.delta_col))\n",
      "  File \"/Users/hujiaxin/Desktop/MLCMS-exercises-main/EX1/planning_grid.py\", line 49, in update_pedestrian_list\n",
      "    self.pedestrian_list.remove(old_coord)\n",
      "ValueError: list.remove(x): x not in list\n"
     ]
    },
    {
     "name": "stdout",
     "output_type": "stream",
     "text": [
      "Entering simulation mode..\n"
     ]
    },
    {
     "name": "stderr",
     "output_type": "stream",
     "text": [
      "Exception in Tkinter callback\n",
      "Traceback (most recent call last):\n",
      "  File \"/opt/anaconda3/envs/mypytorch/lib/python3.7/tkinter/__init__.py\", line 1705, in __call__\n",
      "    return self.func(*args)\n",
      "  File \"/Users/hujiaxin/Desktop/MLCMS-exercises-main/EX1/grid.py\", line 301, in start_simulation\n",
      "    planning_grid, pedestrian_has_ended = pedestrian.move()  # try to move (time constraints)\n",
      "  File \"/Users/hujiaxin/Desktop/MLCMS-exercises-main/EX1/pedestrian.py\", line 255, in move\n",
      "    self.actuate_move(self.planning_grid.grid, self.delta_row, self.delta_col, planning=True)\n",
      "  File \"/Users/hujiaxin/Desktop/MLCMS-exercises-main/EX1/pedestrian.py\", line 225, in actuate_move\n",
      "    (self.row + self.delta_row, self.col + self.delta_col))\n",
      "  File \"/Users/hujiaxin/Desktop/MLCMS-exercises-main/EX1/planning_grid.py\", line 49, in update_pedestrian_list\n",
      "    self.pedestrian_list.remove(old_coord)\n",
      "ValueError: list.remove(x): x not in list\n",
      "Exception in Tkinter callback\n",
      "Traceback (most recent call last):\n",
      "  File \"/opt/anaconda3/envs/mypytorch/lib/python3.7/tkinter/__init__.py\", line 1705, in __call__\n",
      "    return self.func(*args)\n",
      "  File \"/Users/hujiaxin/Desktop/MLCMS-exercises-main/EX1/grid.py\", line 301, in start_simulation\n",
      "    planning_grid, pedestrian_has_ended = pedestrian.move()  # try to move (time constraints)\n",
      "  File \"/Users/hujiaxin/Desktop/MLCMS-exercises-main/EX1/pedestrian.py\", line 255, in move\n",
      "    self.actuate_move(self.planning_grid.grid, self.delta_row, self.delta_col, planning=True)\n",
      "  File \"/Users/hujiaxin/Desktop/MLCMS-exercises-main/EX1/pedestrian.py\", line 225, in actuate_move\n",
      "    (self.row + self.delta_row, self.col + self.delta_col))\n",
      "  File \"/Users/hujiaxin/Desktop/MLCMS-exercises-main/EX1/planning_grid.py\", line 49, in update_pedestrian_list\n",
      "    self.pedestrian_list.remove(old_coord)\n",
      "ValueError: list.remove(x): x not in list\n",
      "Exception in Tkinter callback\n",
      "Traceback (most recent call last):\n",
      "  File \"/opt/anaconda3/envs/mypytorch/lib/python3.7/tkinter/__init__.py\", line 1705, in __call__\n",
      "    return self.func(*args)\n",
      "  File \"/Users/hujiaxin/Desktop/MLCMS-exercises-main/EX1/grid.py\", line 301, in start_simulation\n",
      "    planning_grid, pedestrian_has_ended = pedestrian.move()  # try to move (time constraints)\n",
      "  File \"/Users/hujiaxin/Desktop/MLCMS-exercises-main/EX1/pedestrian.py\", line 255, in move\n",
      "    self.actuate_move(self.planning_grid.grid, self.delta_row, self.delta_col, planning=True)\n",
      "  File \"/Users/hujiaxin/Desktop/MLCMS-exercises-main/EX1/pedestrian.py\", line 225, in actuate_move\n",
      "    (self.row + self.delta_row, self.col + self.delta_col))\n",
      "  File \"/Users/hujiaxin/Desktop/MLCMS-exercises-main/EX1/planning_grid.py\", line 49, in update_pedestrian_list\n",
      "    self.pedestrian_list.remove(old_coord)\n",
      "ValueError: list.remove(x): x not in list\n",
      "Exception in Tkinter callback\n",
      "Traceback (most recent call last):\n",
      "  File \"/opt/anaconda3/envs/mypytorch/lib/python3.7/tkinter/__init__.py\", line 1705, in __call__\n",
      "    return self.func(*args)\n",
      "  File \"/Users/hujiaxin/Desktop/MLCMS-exercises-main/EX1/grid.py\", line 301, in start_simulation\n",
      "    planning_grid, pedestrian_has_ended = pedestrian.move()  # try to move (time constraints)\n",
      "  File \"/Users/hujiaxin/Desktop/MLCMS-exercises-main/EX1/pedestrian.py\", line 255, in move\n",
      "    self.actuate_move(self.planning_grid.grid, self.delta_row, self.delta_col, planning=True)\n",
      "  File \"/Users/hujiaxin/Desktop/MLCMS-exercises-main/EX1/pedestrian.py\", line 225, in actuate_move\n",
      "    (self.row + self.delta_row, self.col + self.delta_col))\n",
      "  File \"/Users/hujiaxin/Desktop/MLCMS-exercises-main/EX1/planning_grid.py\", line 49, in update_pedestrian_list\n",
      "    self.pedestrian_list.remove(old_coord)\n",
      "ValueError: list.remove(x): x not in list\n"
     ]
    },
    {
     "name": "stdout",
     "output_type": "stream",
     "text": [
      "Entering simulation mode..\n"
     ]
    },
    {
     "name": "stderr",
     "output_type": "stream",
     "text": [
      "Exception in Tkinter callback\n",
      "Traceback (most recent call last):\n",
      "  File \"/opt/anaconda3/envs/mypytorch/lib/python3.7/tkinter/__init__.py\", line 1705, in __call__\n",
      "    return self.func(*args)\n",
      "  File \"/Users/hujiaxin/Desktop/MLCMS-exercises-main/EX1/grid.py\", line 301, in start_simulation\n",
      "    planning_grid, pedestrian_has_ended = pedestrian.move()  # try to move (time constraints)\n",
      "  File \"/Users/hujiaxin/Desktop/MLCMS-exercises-main/EX1/pedestrian.py\", line 255, in move\n",
      "    self.actuate_move(self.planning_grid.grid, self.delta_row, self.delta_col, planning=True)\n",
      "  File \"/Users/hujiaxin/Desktop/MLCMS-exercises-main/EX1/pedestrian.py\", line 225, in actuate_move\n",
      "    (self.row + self.delta_row, self.col + self.delta_col))\n",
      "  File \"/Users/hujiaxin/Desktop/MLCMS-exercises-main/EX1/planning_grid.py\", line 49, in update_pedestrian_list\n",
      "    self.pedestrian_list.remove(old_coord)\n",
      "ValueError: list.remove(x): x not in list\n",
      "Exception in Tkinter callback\n",
      "Traceback (most recent call last):\n",
      "  File \"/opt/anaconda3/envs/mypytorch/lib/python3.7/tkinter/__init__.py\", line 1705, in __call__\n",
      "    return self.func(*args)\n",
      "  File \"/Users/hujiaxin/Desktop/MLCMS-exercises-main/EX1/grid.py\", line 301, in start_simulation\n",
      "    planning_grid, pedestrian_has_ended = pedestrian.move()  # try to move (time constraints)\n",
      "  File \"/Users/hujiaxin/Desktop/MLCMS-exercises-main/EX1/pedestrian.py\", line 255, in move\n",
      "    self.actuate_move(self.planning_grid.grid, self.delta_row, self.delta_col, planning=True)\n",
      "  File \"/Users/hujiaxin/Desktop/MLCMS-exercises-main/EX1/pedestrian.py\", line 225, in actuate_move\n",
      "    (self.row + self.delta_row, self.col + self.delta_col))\n",
      "  File \"/Users/hujiaxin/Desktop/MLCMS-exercises-main/EX1/planning_grid.py\", line 49, in update_pedestrian_list\n",
      "    self.pedestrian_list.remove(old_coord)\n",
      "ValueError: list.remove(x): x not in list\n",
      "Exception in Tkinter callback\n",
      "Traceback (most recent call last):\n",
      "  File \"/opt/anaconda3/envs/mypytorch/lib/python3.7/tkinter/__init__.py\", line 1705, in __call__\n",
      "    return self.func(*args)\n",
      "  File \"/Users/hujiaxin/Desktop/MLCMS-exercises-main/EX1/grid.py\", line 301, in start_simulation\n",
      "    planning_grid, pedestrian_has_ended = pedestrian.move()  # try to move (time constraints)\n",
      "  File \"/Users/hujiaxin/Desktop/MLCMS-exercises-main/EX1/pedestrian.py\", line 255, in move\n",
      "    self.actuate_move(self.planning_grid.grid, self.delta_row, self.delta_col, planning=True)\n",
      "  File \"/Users/hujiaxin/Desktop/MLCMS-exercises-main/EX1/pedestrian.py\", line 225, in actuate_move\n",
      "    (self.row + self.delta_row, self.col + self.delta_col))\n",
      "  File \"/Users/hujiaxin/Desktop/MLCMS-exercises-main/EX1/planning_grid.py\", line 49, in update_pedestrian_list\n",
      "    self.pedestrian_list.remove(old_coord)\n",
      "ValueError: list.remove(x): x not in list\n"
     ]
    },
    {
     "name": "stdout",
     "output_type": "stream",
     "text": [
      "Entering simulation mode..\n"
     ]
    },
    {
     "name": "stderr",
     "output_type": "stream",
     "text": [
      "Exception in Tkinter callback\n",
      "Traceback (most recent call last):\n",
      "  File \"/opt/anaconda3/envs/mypytorch/lib/python3.7/tkinter/__init__.py\", line 1705, in __call__\n",
      "    return self.func(*args)\n",
      "  File \"/Users/hujiaxin/Desktop/MLCMS-exercises-main/EX1/grid.py\", line 301, in start_simulation\n",
      "    planning_grid, pedestrian_has_ended = pedestrian.move()  # try to move (time constraints)\n",
      "  File \"/Users/hujiaxin/Desktop/MLCMS-exercises-main/EX1/pedestrian.py\", line 255, in move\n",
      "    self.actuate_move(self.planning_grid.grid, self.delta_row, self.delta_col, planning=True)\n",
      "  File \"/Users/hujiaxin/Desktop/MLCMS-exercises-main/EX1/pedestrian.py\", line 225, in actuate_move\n",
      "    (self.row + self.delta_row, self.col + self.delta_col))\n",
      "  File \"/Users/hujiaxin/Desktop/MLCMS-exercises-main/EX1/planning_grid.py\", line 49, in update_pedestrian_list\n",
      "    self.pedestrian_list.remove(old_coord)\n",
      "ValueError: list.remove(x): x not in list\n"
     ]
    },
    {
     "name": "stdout",
     "output_type": "stream",
     "text": [
      "Entering simulation mode..\n"
     ]
    },
    {
     "name": "stderr",
     "output_type": "stream",
     "text": [
      "Exception in Tkinter callback\n",
      "Traceback (most recent call last):\n",
      "  File \"/opt/anaconda3/envs/mypytorch/lib/python3.7/tkinter/__init__.py\", line 1705, in __call__\n",
      "    return self.func(*args)\n",
      "  File \"/Users/hujiaxin/Desktop/MLCMS-exercises-main/EX1/grid.py\", line 301, in start_simulation\n",
      "    planning_grid, pedestrian_has_ended = pedestrian.move()  # try to move (time constraints)\n",
      "  File \"/Users/hujiaxin/Desktop/MLCMS-exercises-main/EX1/pedestrian.py\", line 255, in move\n",
      "    self.actuate_move(self.planning_grid.grid, self.delta_row, self.delta_col, planning=True)\n",
      "  File \"/Users/hujiaxin/Desktop/MLCMS-exercises-main/EX1/pedestrian.py\", line 225, in actuate_move\n",
      "    (self.row + self.delta_row, self.col + self.delta_col))\n",
      "  File \"/Users/hujiaxin/Desktop/MLCMS-exercises-main/EX1/planning_grid.py\", line 49, in update_pedestrian_list\n",
      "    self.pedestrian_list.remove(old_coord)\n",
      "ValueError: list.remove(x): x not in list\n"
     ]
    },
    {
     "name": "stdout",
     "output_type": "stream",
     "text": [
      "Entering simulation mode..\n"
     ]
    },
    {
     "name": "stderr",
     "output_type": "stream",
     "text": [
      "Exception in Tkinter callback\n",
      "Traceback (most recent call last):\n",
      "  File \"/opt/anaconda3/envs/mypytorch/lib/python3.7/tkinter/__init__.py\", line 1705, in __call__\n",
      "    return self.func(*args)\n",
      "  File \"/Users/hujiaxin/Desktop/MLCMS-exercises-main/EX1/grid.py\", line 301, in start_simulation\n",
      "    planning_grid, pedestrian_has_ended = pedestrian.move()  # try to move (time constraints)\n",
      "  File \"/Users/hujiaxin/Desktop/MLCMS-exercises-main/EX1/pedestrian.py\", line 255, in move\n",
      "    self.actuate_move(self.planning_grid.grid, self.delta_row, self.delta_col, planning=True)\n",
      "  File \"/Users/hujiaxin/Desktop/MLCMS-exercises-main/EX1/pedestrian.py\", line 225, in actuate_move\n",
      "    (self.row + self.delta_row, self.col + self.delta_col))\n",
      "  File \"/Users/hujiaxin/Desktop/MLCMS-exercises-main/EX1/planning_grid.py\", line 49, in update_pedestrian_list\n",
      "    self.pedestrian_list.remove(old_coord)\n",
      "ValueError: list.remove(x): x not in list\n"
     ]
    },
    {
     "name": "stdout",
     "output_type": "stream",
     "text": [
      "Entering simulation mode..\n"
     ]
    },
    {
     "name": "stderr",
     "output_type": "stream",
     "text": [
      "Exception in Tkinter callback\n",
      "Traceback (most recent call last):\n",
      "  File \"/opt/anaconda3/envs/mypytorch/lib/python3.7/tkinter/__init__.py\", line 1705, in __call__\n",
      "    return self.func(*args)\n",
      "  File \"/Users/hujiaxin/Desktop/MLCMS-exercises-main/EX1/grid.py\", line 301, in start_simulation\n",
      "    planning_grid, pedestrian_has_ended = pedestrian.move()  # try to move (time constraints)\n",
      "  File \"/Users/hujiaxin/Desktop/MLCMS-exercises-main/EX1/pedestrian.py\", line 255, in move\n",
      "    self.actuate_move(self.planning_grid.grid, self.delta_row, self.delta_col, planning=True)\n",
      "  File \"/Users/hujiaxin/Desktop/MLCMS-exercises-main/EX1/pedestrian.py\", line 225, in actuate_move\n",
      "    (self.row + self.delta_row, self.col + self.delta_col))\n",
      "  File \"/Users/hujiaxin/Desktop/MLCMS-exercises-main/EX1/planning_grid.py\", line 49, in update_pedestrian_list\n",
      "    self.pedestrian_list.remove(old_coord)\n",
      "ValueError: list.remove(x): x not in list\n"
     ]
    },
    {
     "name": "stdout",
     "output_type": "stream",
     "text": [
      "Entering simulation mode..\n"
     ]
    },
    {
     "name": "stderr",
     "output_type": "stream",
     "text": [
      "Exception in Tkinter callback\n",
      "Traceback (most recent call last):\n",
      "  File \"/opt/anaconda3/envs/mypytorch/lib/python3.7/tkinter/__init__.py\", line 1705, in __call__\n",
      "    return self.func(*args)\n",
      "  File \"/Users/hujiaxin/Desktop/MLCMS-exercises-main/EX1/grid.py\", line 301, in start_simulation\n",
      "    planning_grid, pedestrian_has_ended = pedestrian.move()  # try to move (time constraints)\n",
      "  File \"/Users/hujiaxin/Desktop/MLCMS-exercises-main/EX1/pedestrian.py\", line 255, in move\n",
      "    self.actuate_move(self.planning_grid.grid, self.delta_row, self.delta_col, planning=True)\n",
      "  File \"/Users/hujiaxin/Desktop/MLCMS-exercises-main/EX1/pedestrian.py\", line 225, in actuate_move\n",
      "    (self.row + self.delta_row, self.col + self.delta_col))\n",
      "  File \"/Users/hujiaxin/Desktop/MLCMS-exercises-main/EX1/planning_grid.py\", line 49, in update_pedestrian_list\n",
      "    self.pedestrian_list.remove(old_coord)\n",
      "ValueError: list.remove(x): x not in list\n"
     ]
    },
    {
     "name": "stdout",
     "output_type": "stream",
     "text": [
      "Entering simulation mode..\n"
     ]
    },
    {
     "name": "stderr",
     "output_type": "stream",
     "text": [
      "Exception in Tkinter callback\n",
      "Traceback (most recent call last):\n",
      "  File \"/opt/anaconda3/envs/mypytorch/lib/python3.7/tkinter/__init__.py\", line 1705, in __call__\n",
      "    return self.func(*args)\n",
      "  File \"/Users/hujiaxin/Desktop/MLCMS-exercises-main/EX1/grid.py\", line 301, in start_simulation\n",
      "    planning_grid, pedestrian_has_ended = pedestrian.move()  # try to move (time constraints)\n",
      "  File \"/Users/hujiaxin/Desktop/MLCMS-exercises-main/EX1/pedestrian.py\", line 255, in move\n",
      "    self.actuate_move(self.planning_grid.grid, self.delta_row, self.delta_col, planning=True)\n",
      "  File \"/Users/hujiaxin/Desktop/MLCMS-exercises-main/EX1/pedestrian.py\", line 225, in actuate_move\n",
      "    (self.row + self.delta_row, self.col + self.delta_col))\n",
      "  File \"/Users/hujiaxin/Desktop/MLCMS-exercises-main/EX1/planning_grid.py\", line 49, in update_pedestrian_list\n",
      "    self.pedestrian_list.remove(old_coord)\n",
      "ValueError: list.remove(x): x not in list\n"
     ]
    },
    {
     "name": "stdout",
     "output_type": "stream",
     "text": [
      "Entering simulation mode..\n"
     ]
    },
    {
     "name": "stderr",
     "output_type": "stream",
     "text": [
      "Exception in Tkinter callback\n",
      "Traceback (most recent call last):\n",
      "  File \"/opt/anaconda3/envs/mypytorch/lib/python3.7/tkinter/__init__.py\", line 1705, in __call__\n",
      "    return self.func(*args)\n",
      "  File \"/Users/hujiaxin/Desktop/MLCMS-exercises-main/EX1/grid.py\", line 301, in start_simulation\n",
      "    planning_grid, pedestrian_has_ended = pedestrian.move()  # try to move (time constraints)\n",
      "  File \"/Users/hujiaxin/Desktop/MLCMS-exercises-main/EX1/pedestrian.py\", line 255, in move\n",
      "    self.actuate_move(self.planning_grid.grid, self.delta_row, self.delta_col, planning=True)\n",
      "  File \"/Users/hujiaxin/Desktop/MLCMS-exercises-main/EX1/pedestrian.py\", line 225, in actuate_move\n",
      "    (self.row + self.delta_row, self.col + self.delta_col))\n",
      "  File \"/Users/hujiaxin/Desktop/MLCMS-exercises-main/EX1/planning_grid.py\", line 49, in update_pedestrian_list\n",
      "    self.pedestrian_list.remove(old_coord)\n",
      "ValueError: list.remove(x): x not in list\n"
     ]
    },
    {
     "name": "stdout",
     "output_type": "stream",
     "text": [
      "Entering simulation mode..\n"
     ]
    },
    {
     "name": "stderr",
     "output_type": "stream",
     "text": [
      "Exception in Tkinter callback\n",
      "Traceback (most recent call last):\n",
      "  File \"/opt/anaconda3/envs/mypytorch/lib/python3.7/tkinter/__init__.py\", line 1705, in __call__\n",
      "    return self.func(*args)\n",
      "  File \"/Users/hujiaxin/Desktop/MLCMS-exercises-main/EX1/grid.py\", line 301, in start_simulation\n",
      "    planning_grid, pedestrian_has_ended = pedestrian.move()  # try to move (time constraints)\n",
      "  File \"/Users/hujiaxin/Desktop/MLCMS-exercises-main/EX1/pedestrian.py\", line 255, in move\n",
      "    self.actuate_move(self.planning_grid.grid, self.delta_row, self.delta_col, planning=True)\n",
      "  File \"/Users/hujiaxin/Desktop/MLCMS-exercises-main/EX1/pedestrian.py\", line 225, in actuate_move\n",
      "    (self.row + self.delta_row, self.col + self.delta_col))\n",
      "  File \"/Users/hujiaxin/Desktop/MLCMS-exercises-main/EX1/planning_grid.py\", line 49, in update_pedestrian_list\n",
      "    self.pedestrian_list.remove(old_coord)\n",
      "ValueError: list.remove(x): x not in list\n"
     ]
    },
    {
     "name": "stdout",
     "output_type": "stream",
     "text": [
      "Entering simulation mode..\n",
      "Entering simulation mode..\n",
      "Entering simulation mode..\n",
      "Entering simulation mode..\n",
      "Entering simulation mode..\n",
      "Entering simulation mode..\n"
     ]
    },
    {
     "name": "stderr",
     "output_type": "stream",
     "text": [
      "Exception in Tkinter callback\n",
      "Traceback (most recent call last):\n",
      "  File \"/opt/anaconda3/envs/mypytorch/lib/python3.7/tkinter/__init__.py\", line 1705, in __call__\n",
      "    return self.func(*args)\n",
      "  File \"/Users/hujiaxin/Desktop/MLCMS-exercises-main/EX1/grid.py\", line 301, in start_simulation\n",
      "    planning_grid, pedestrian_has_ended = pedestrian.move()  # try to move (time constraints)\n",
      "  File \"/Users/hujiaxin/Desktop/MLCMS-exercises-main/EX1/pedestrian.py\", line 255, in move\n",
      "    self.actuate_move(self.planning_grid.grid, self.delta_row, self.delta_col, planning=True)\n",
      "  File \"/Users/hujiaxin/Desktop/MLCMS-exercises-main/EX1/pedestrian.py\", line 225, in actuate_move\n",
      "    (self.row + self.delta_row, self.col + self.delta_col))\n",
      "  File \"/Users/hujiaxin/Desktop/MLCMS-exercises-main/EX1/planning_grid.py\", line 49, in update_pedestrian_list\n",
      "    self.pedestrian_list.remove(old_coord)\n",
      "ValueError: list.remove(x): x not in list\n",
      "Exception in Tkinter callback\n",
      "Traceback (most recent call last):\n",
      "  File \"/opt/anaconda3/envs/mypytorch/lib/python3.7/tkinter/__init__.py\", line 1705, in __call__\n",
      "    return self.func(*args)\n",
      "  File \"/Users/hujiaxin/Desktop/MLCMS-exercises-main/EX1/grid.py\", line 301, in start_simulation\n",
      "    planning_grid, pedestrian_has_ended = pedestrian.move()  # try to move (time constraints)\n",
      "  File \"/Users/hujiaxin/Desktop/MLCMS-exercises-main/EX1/pedestrian.py\", line 255, in move\n",
      "    self.actuate_move(self.planning_grid.grid, self.delta_row, self.delta_col, planning=True)\n",
      "  File \"/Users/hujiaxin/Desktop/MLCMS-exercises-main/EX1/pedestrian.py\", line 225, in actuate_move\n",
      "    (self.row + self.delta_row, self.col + self.delta_col))\n",
      "  File \"/Users/hujiaxin/Desktop/MLCMS-exercises-main/EX1/planning_grid.py\", line 49, in update_pedestrian_list\n",
      "    self.pedestrian_list.remove(old_coord)\n",
      "ValueError: list.remove(x): x not in list\n",
      "Exception in Tkinter callback\n",
      "Traceback (most recent call last):\n",
      "  File \"/opt/anaconda3/envs/mypytorch/lib/python3.7/tkinter/__init__.py\", line 1705, in __call__\n",
      "    return self.func(*args)\n",
      "  File \"/Users/hujiaxin/Desktop/MLCMS-exercises-main/EX1/grid.py\", line 301, in start_simulation\n",
      "    planning_grid, pedestrian_has_ended = pedestrian.move()  # try to move (time constraints)\n",
      "  File \"/Users/hujiaxin/Desktop/MLCMS-exercises-main/EX1/pedestrian.py\", line 255, in move\n",
      "    self.actuate_move(self.planning_grid.grid, self.delta_row, self.delta_col, planning=True)\n",
      "  File \"/Users/hujiaxin/Desktop/MLCMS-exercises-main/EX1/pedestrian.py\", line 225, in actuate_move\n",
      "    (self.row + self.delta_row, self.col + self.delta_col))\n",
      "  File \"/Users/hujiaxin/Desktop/MLCMS-exercises-main/EX1/planning_grid.py\", line 49, in update_pedestrian_list\n",
      "    self.pedestrian_list.remove(old_coord)\n",
      "ValueError: list.remove(x): x not in list\n",
      "Exception in Tkinter callback\n",
      "Traceback (most recent call last):\n",
      "  File \"/opt/anaconda3/envs/mypytorch/lib/python3.7/tkinter/__init__.py\", line 1705, in __call__\n",
      "    return self.func(*args)\n",
      "  File \"/Users/hujiaxin/Desktop/MLCMS-exercises-main/EX1/grid.py\", line 301, in start_simulation\n",
      "    planning_grid, pedestrian_has_ended = pedestrian.move()  # try to move (time constraints)\n",
      "  File \"/Users/hujiaxin/Desktop/MLCMS-exercises-main/EX1/pedestrian.py\", line 255, in move\n",
      "    self.actuate_move(self.planning_grid.grid, self.delta_row, self.delta_col, planning=True)\n",
      "  File \"/Users/hujiaxin/Desktop/MLCMS-exercises-main/EX1/pedestrian.py\", line 225, in actuate_move\n",
      "    (self.row + self.delta_row, self.col + self.delta_col))\n",
      "  File \"/Users/hujiaxin/Desktop/MLCMS-exercises-main/EX1/planning_grid.py\", line 49, in update_pedestrian_list\n",
      "    self.pedestrian_list.remove(old_coord)\n",
      "ValueError: list.remove(x): x not in list\n",
      "Exception in Tkinter callback\n",
      "Traceback (most recent call last):\n",
      "  File \"/opt/anaconda3/envs/mypytorch/lib/python3.7/tkinter/__init__.py\", line 1705, in __call__\n",
      "    return self.func(*args)\n",
      "  File \"/Users/hujiaxin/Desktop/MLCMS-exercises-main/EX1/grid.py\", line 301, in start_simulation\n",
      "    planning_grid, pedestrian_has_ended = pedestrian.move()  # try to move (time constraints)\n",
      "  File \"/Users/hujiaxin/Desktop/MLCMS-exercises-main/EX1/pedestrian.py\", line 255, in move\n",
      "    self.actuate_move(self.planning_grid.grid, self.delta_row, self.delta_col, planning=True)\n",
      "  File \"/Users/hujiaxin/Desktop/MLCMS-exercises-main/EX1/pedestrian.py\", line 225, in actuate_move\n",
      "    (self.row + self.delta_row, self.col + self.delta_col))\n",
      "  File \"/Users/hujiaxin/Desktop/MLCMS-exercises-main/EX1/planning_grid.py\", line 49, in update_pedestrian_list\n",
      "    self.pedestrian_list.remove(old_coord)\n",
      "ValueError: list.remove(x): x not in list\n",
      "Exception in Tkinter callback\n",
      "Traceback (most recent call last):\n",
      "  File \"/opt/anaconda3/envs/mypytorch/lib/python3.7/tkinter/__init__.py\", line 1705, in __call__\n",
      "    return self.func(*args)\n",
      "  File \"/Users/hujiaxin/Desktop/MLCMS-exercises-main/EX1/grid.py\", line 301, in start_simulation\n",
      "    planning_grid, pedestrian_has_ended = pedestrian.move()  # try to move (time constraints)\n",
      "  File \"/Users/hujiaxin/Desktop/MLCMS-exercises-main/EX1/pedestrian.py\", line 255, in move\n",
      "    self.actuate_move(self.planning_grid.grid, self.delta_row, self.delta_col, planning=True)\n",
      "  File \"/Users/hujiaxin/Desktop/MLCMS-exercises-main/EX1/pedestrian.py\", line 225, in actuate_move\n",
      "    (self.row + self.delta_row, self.col + self.delta_col))\n",
      "  File \"/Users/hujiaxin/Desktop/MLCMS-exercises-main/EX1/planning_grid.py\", line 49, in update_pedestrian_list\n",
      "    self.pedestrian_list.remove(old_coord)\n",
      "ValueError: list.remove(x): x not in list\n",
      "Exception in Tkinter callback\n",
      "Traceback (most recent call last):\n",
      "  File \"/opt/anaconda3/envs/mypytorch/lib/python3.7/tkinter/__init__.py\", line 1705, in __call__\n",
      "    return self.func(*args)\n",
      "  File \"/Users/hujiaxin/Desktop/MLCMS-exercises-main/EX1/grid.py\", line 301, in start_simulation\n",
      "    planning_grid, pedestrian_has_ended = pedestrian.move()  # try to move (time constraints)\n",
      "  File \"/Users/hujiaxin/Desktop/MLCMS-exercises-main/EX1/pedestrian.py\", line 255, in move\n",
      "    self.actuate_move(self.planning_grid.grid, self.delta_row, self.delta_col, planning=True)\n",
      "  File \"/Users/hujiaxin/Desktop/MLCMS-exercises-main/EX1/pedestrian.py\", line 225, in actuate_move\n",
      "    (self.row + self.delta_row, self.col + self.delta_col))\n",
      "  File \"/Users/hujiaxin/Desktop/MLCMS-exercises-main/EX1/planning_grid.py\", line 49, in update_pedestrian_list\n",
      "    self.pedestrian_list.remove(old_coord)\n",
      "ValueError: list.remove(x): x not in list\n"
     ]
    },
    {
     "name": "stdout",
     "output_type": "stream",
     "text": [
      "Entering simulation mode..\n",
      "Entering simulation mode..\n"
     ]
    },
    {
     "name": "stderr",
     "output_type": "stream",
     "text": [
      "Exception in Tkinter callback\n",
      "Traceback (most recent call last):\n",
      "  File \"/opt/anaconda3/envs/mypytorch/lib/python3.7/tkinter/__init__.py\", line 1705, in __call__\n",
      "    return self.func(*args)\n",
      "  File \"/Users/hujiaxin/Desktop/MLCMS-exercises-main/EX1/grid.py\", line 301, in start_simulation\n",
      "    planning_grid, pedestrian_has_ended = pedestrian.move()  # try to move (time constraints)\n",
      "  File \"/Users/hujiaxin/Desktop/MLCMS-exercises-main/EX1/pedestrian.py\", line 255, in move\n",
      "    self.actuate_move(self.planning_grid.grid, self.delta_row, self.delta_col, planning=True)\n",
      "  File \"/Users/hujiaxin/Desktop/MLCMS-exercises-main/EX1/pedestrian.py\", line 225, in actuate_move\n",
      "    (self.row + self.delta_row, self.col + self.delta_col))\n",
      "  File \"/Users/hujiaxin/Desktop/MLCMS-exercises-main/EX1/planning_grid.py\", line 49, in update_pedestrian_list\n",
      "    self.pedestrian_list.remove(old_coord)\n",
      "ValueError: list.remove(x): x not in list\n"
     ]
    },
    {
     "name": "stdout",
     "output_type": "stream",
     "text": [
      "Entering simulation mode..\n"
     ]
    },
    {
     "name": "stderr",
     "output_type": "stream",
     "text": [
      "Exception in Tkinter callback\n",
      "Traceback (most recent call last):\n",
      "  File \"/opt/anaconda3/envs/mypytorch/lib/python3.7/tkinter/__init__.py\", line 1705, in __call__\n",
      "    return self.func(*args)\n",
      "  File \"/Users/hujiaxin/Desktop/MLCMS-exercises-main/EX1/grid.py\", line 301, in start_simulation\n",
      "    planning_grid, pedestrian_has_ended = pedestrian.move()  # try to move (time constraints)\n",
      "  File \"/Users/hujiaxin/Desktop/MLCMS-exercises-main/EX1/pedestrian.py\", line 255, in move\n",
      "    self.actuate_move(self.planning_grid.grid, self.delta_row, self.delta_col, planning=True)\n",
      "  File \"/Users/hujiaxin/Desktop/MLCMS-exercises-main/EX1/pedestrian.py\", line 225, in actuate_move\n",
      "    (self.row + self.delta_row, self.col + self.delta_col))\n",
      "  File \"/Users/hujiaxin/Desktop/MLCMS-exercises-main/EX1/planning_grid.py\", line 49, in update_pedestrian_list\n",
      "    self.pedestrian_list.remove(old_coord)\n",
      "ValueError: list.remove(x): x not in list\n"
     ]
    },
    {
     "name": "stdout",
     "output_type": "stream",
     "text": [
      "Entering simulation mode..\n"
     ]
    },
    {
     "name": "stderr",
     "output_type": "stream",
     "text": [
      "Exception in Tkinter callback\n",
      "Traceback (most recent call last):\n",
      "  File \"/opt/anaconda3/envs/mypytorch/lib/python3.7/tkinter/__init__.py\", line 1705, in __call__\n",
      "    return self.func(*args)\n",
      "  File \"/Users/hujiaxin/Desktop/MLCMS-exercises-main/EX1/grid.py\", line 301, in start_simulation\n",
      "    planning_grid, pedestrian_has_ended = pedestrian.move()  # try to move (time constraints)\n",
      "  File \"/Users/hujiaxin/Desktop/MLCMS-exercises-main/EX1/pedestrian.py\", line 255, in move\n",
      "    self.actuate_move(self.planning_grid.grid, self.delta_row, self.delta_col, planning=True)\n",
      "  File \"/Users/hujiaxin/Desktop/MLCMS-exercises-main/EX1/pedestrian.py\", line 227, in actuate_move\n",
      "    self.planning_grid.pedestrian_list.remove((self.row, self.col))\n",
      "ValueError: list.remove(x): x not in list\n"
     ]
    },
    {
     "name": "stdout",
     "output_type": "stream",
     "text": [
      "Entering simulation mode..\n"
     ]
    },
    {
     "name": "stderr",
     "output_type": "stream",
     "text": [
      "Exception in Tkinter callback\n",
      "Traceback (most recent call last):\n",
      "  File \"/opt/anaconda3/envs/mypytorch/lib/python3.7/tkinter/__init__.py\", line 1705, in __call__\n",
      "    return self.func(*args)\n",
      "  File \"/Users/hujiaxin/Desktop/MLCMS-exercises-main/EX1/grid.py\", line 301, in start_simulation\n",
      "    planning_grid, pedestrian_has_ended = pedestrian.move()  # try to move (time constraints)\n",
      "  File \"/Users/hujiaxin/Desktop/MLCMS-exercises-main/EX1/pedestrian.py\", line 255, in move\n",
      "    self.actuate_move(self.planning_grid.grid, self.delta_row, self.delta_col, planning=True)\n",
      "  File \"/Users/hujiaxin/Desktop/MLCMS-exercises-main/EX1/pedestrian.py\", line 227, in actuate_move\n",
      "    self.planning_grid.pedestrian_list.remove((self.row, self.col))\n",
      "ValueError: list.remove(x): x not in list\n"
     ]
    },
    {
     "name": "stdout",
     "output_type": "stream",
     "text": [
      "Entering simulation mode..\n"
     ]
    },
    {
     "name": "stderr",
     "output_type": "stream",
     "text": [
      "Exception in Tkinter callback\n",
      "Traceback (most recent call last):\n",
      "  File \"/opt/anaconda3/envs/mypytorch/lib/python3.7/tkinter/__init__.py\", line 1705, in __call__\n",
      "    return self.func(*args)\n",
      "  File \"/Users/hujiaxin/Desktop/MLCMS-exercises-main/EX1/grid.py\", line 301, in start_simulation\n",
      "    planning_grid, pedestrian_has_ended = pedestrian.move()  # try to move (time constraints)\n",
      "  File \"/Users/hujiaxin/Desktop/MLCMS-exercises-main/EX1/pedestrian.py\", line 255, in move\n",
      "    self.actuate_move(self.planning_grid.grid, self.delta_row, self.delta_col, planning=True)\n",
      "  File \"/Users/hujiaxin/Desktop/MLCMS-exercises-main/EX1/pedestrian.py\", line 227, in actuate_move\n",
      "    self.planning_grid.pedestrian_list.remove((self.row, self.col))\n",
      "ValueError: list.remove(x): x not in list\n"
     ]
    },
    {
     "name": "stdout",
     "output_type": "stream",
     "text": [
      "Entering simulation mode..\n"
     ]
    },
    {
     "name": "stderr",
     "output_type": "stream",
     "text": [
      "Exception in Tkinter callback\n",
      "Traceback (most recent call last):\n",
      "  File \"/opt/anaconda3/envs/mypytorch/lib/python3.7/tkinter/__init__.py\", line 1705, in __call__\n",
      "    return self.func(*args)\n",
      "  File \"/Users/hujiaxin/Desktop/MLCMS-exercises-main/EX1/grid.py\", line 301, in start_simulation\n",
      "    planning_grid, pedestrian_has_ended = pedestrian.move()  # try to move (time constraints)\n",
      "  File \"/Users/hujiaxin/Desktop/MLCMS-exercises-main/EX1/pedestrian.py\", line 255, in move\n",
      "    self.actuate_move(self.planning_grid.grid, self.delta_row, self.delta_col, planning=True)\n",
      "  File \"/Users/hujiaxin/Desktop/MLCMS-exercises-main/EX1/pedestrian.py\", line 227, in actuate_move\n",
      "    self.planning_grid.pedestrian_list.remove((self.row, self.col))\n",
      "ValueError: list.remove(x): x not in list\n"
     ]
    },
    {
     "name": "stdout",
     "output_type": "stream",
     "text": [
      "Entering simulation mode..\n"
     ]
    },
    {
     "name": "stderr",
     "output_type": "stream",
     "text": [
      "Exception in Tkinter callback\n",
      "Traceback (most recent call last):\n",
      "  File \"/opt/anaconda3/envs/mypytorch/lib/python3.7/tkinter/__init__.py\", line 1705, in __call__\n",
      "    return self.func(*args)\n",
      "  File \"/Users/hujiaxin/Desktop/MLCMS-exercises-main/EX1/grid.py\", line 301, in start_simulation\n",
      "    planning_grid, pedestrian_has_ended = pedestrian.move()  # try to move (time constraints)\n",
      "  File \"/Users/hujiaxin/Desktop/MLCMS-exercises-main/EX1/pedestrian.py\", line 255, in move\n",
      "    self.actuate_move(self.planning_grid.grid, self.delta_row, self.delta_col, planning=True)\n",
      "  File \"/Users/hujiaxin/Desktop/MLCMS-exercises-main/EX1/pedestrian.py\", line 227, in actuate_move\n",
      "    self.planning_grid.pedestrian_list.remove((self.row, self.col))\n",
      "ValueError: list.remove(x): x not in list\n",
      "Exception in Tkinter callback\n",
      "Traceback (most recent call last):\n",
      "  File \"/opt/anaconda3/envs/mypytorch/lib/python3.7/tkinter/__init__.py\", line 1705, in __call__\n",
      "    return self.func(*args)\n",
      "  File \"/Users/hujiaxin/Desktop/MLCMS-exercises-main/EX1/grid.py\", line 301, in start_simulation\n",
      "    planning_grid, pedestrian_has_ended = pedestrian.move()  # try to move (time constraints)\n",
      "  File \"/Users/hujiaxin/Desktop/MLCMS-exercises-main/EX1/pedestrian.py\", line 255, in move\n",
      "    self.actuate_move(self.planning_grid.grid, self.delta_row, self.delta_col, planning=True)\n",
      "  File \"/Users/hujiaxin/Desktop/MLCMS-exercises-main/EX1/pedestrian.py\", line 227, in actuate_move\n",
      "    self.planning_grid.pedestrian_list.remove((self.row, self.col))\n",
      "ValueError: list.remove(x): x not in list\n"
     ]
    },
    {
     "name": "stdout",
     "output_type": "stream",
     "text": [
      "Entering simulation mode..\n",
      "Entering simulation mode..\n"
     ]
    },
    {
     "name": "stderr",
     "output_type": "stream",
     "text": [
      "Exception in Tkinter callback\n",
      "Traceback (most recent call last):\n",
      "  File \"/opt/anaconda3/envs/mypytorch/lib/python3.7/tkinter/__init__.py\", line 1705, in __call__\n",
      "    return self.func(*args)\n",
      "  File \"/Users/hujiaxin/Desktop/MLCMS-exercises-main/EX1/grid.py\", line 301, in start_simulation\n",
      "    planning_grid, pedestrian_has_ended = pedestrian.move()  # try to move (time constraints)\n",
      "  File \"/Users/hujiaxin/Desktop/MLCMS-exercises-main/EX1/pedestrian.py\", line 255, in move\n",
      "    self.actuate_move(self.planning_grid.grid, self.delta_row, self.delta_col, planning=True)\n",
      "  File \"/Users/hujiaxin/Desktop/MLCMS-exercises-main/EX1/pedestrian.py\", line 227, in actuate_move\n",
      "    self.planning_grid.pedestrian_list.remove((self.row, self.col))\n",
      "ValueError: list.remove(x): x not in list\n"
     ]
    },
    {
     "name": "stdout",
     "output_type": "stream",
     "text": [
      "Entering simulation mode..\n"
     ]
    },
    {
     "name": "stderr",
     "output_type": "stream",
     "text": [
      "Exception in Tkinter callback\n",
      "Traceback (most recent call last):\n",
      "  File \"/opt/anaconda3/envs/mypytorch/lib/python3.7/tkinter/__init__.py\", line 1705, in __call__\n",
      "    return self.func(*args)\n",
      "  File \"/Users/hujiaxin/Desktop/MLCMS-exercises-main/EX1/grid.py\", line 301, in start_simulation\n",
      "    planning_grid, pedestrian_has_ended = pedestrian.move()  # try to move (time constraints)\n",
      "  File \"/Users/hujiaxin/Desktop/MLCMS-exercises-main/EX1/pedestrian.py\", line 255, in move\n",
      "    self.actuate_move(self.planning_grid.grid, self.delta_row, self.delta_col, planning=True)\n",
      "  File \"/Users/hujiaxin/Desktop/MLCMS-exercises-main/EX1/pedestrian.py\", line 227, in actuate_move\n",
      "    self.planning_grid.pedestrian_list.remove((self.row, self.col))\n",
      "ValueError: list.remove(x): x not in list\n"
     ]
    },
    {
     "name": "stdout",
     "output_type": "stream",
     "text": [
      "Entering simulation mode..\n"
     ]
    },
    {
     "name": "stderr",
     "output_type": "stream",
     "text": [
      "Exception in Tkinter callback\n",
      "Traceback (most recent call last):\n",
      "  File \"/opt/anaconda3/envs/mypytorch/lib/python3.7/tkinter/__init__.py\", line 1705, in __call__\n",
      "    return self.func(*args)\n",
      "  File \"/Users/hujiaxin/Desktop/MLCMS-exercises-main/EX1/grid.py\", line 301, in start_simulation\n",
      "    planning_grid, pedestrian_has_ended = pedestrian.move()  # try to move (time constraints)\n",
      "  File \"/Users/hujiaxin/Desktop/MLCMS-exercises-main/EX1/pedestrian.py\", line 255, in move\n",
      "    self.actuate_move(self.planning_grid.grid, self.delta_row, self.delta_col, planning=True)\n",
      "  File \"/Users/hujiaxin/Desktop/MLCMS-exercises-main/EX1/pedestrian.py\", line 227, in actuate_move\n",
      "    self.planning_grid.pedestrian_list.remove((self.row, self.col))\n",
      "ValueError: list.remove(x): x not in list\n"
     ]
    },
    {
     "name": "stdout",
     "output_type": "stream",
     "text": [
      "Entering simulation mode..\n",
      "Entering simulation mode..\n"
     ]
    },
    {
     "name": "stderr",
     "output_type": "stream",
     "text": [
      "Exception in Tkinter callback\n",
      "Traceback (most recent call last):\n",
      "  File \"/opt/anaconda3/envs/mypytorch/lib/python3.7/tkinter/__init__.py\", line 1705, in __call__\n",
      "    return self.func(*args)\n",
      "  File \"/Users/hujiaxin/Desktop/MLCMS-exercises-main/EX1/grid.py\", line 301, in start_simulation\n",
      "    planning_grid, pedestrian_has_ended = pedestrian.move()  # try to move (time constraints)\n",
      "  File \"/Users/hujiaxin/Desktop/MLCMS-exercises-main/EX1/pedestrian.py\", line 255, in move\n",
      "    self.actuate_move(self.planning_grid.grid, self.delta_row, self.delta_col, planning=True)\n",
      "  File \"/Users/hujiaxin/Desktop/MLCMS-exercises-main/EX1/pedestrian.py\", line 225, in actuate_move\n",
      "    (self.row + self.delta_row, self.col + self.delta_col))\n",
      "  File \"/Users/hujiaxin/Desktop/MLCMS-exercises-main/EX1/planning_grid.py\", line 49, in update_pedestrian_list\n",
      "    self.pedestrian_list.remove(old_coord)\n",
      "ValueError: list.remove(x): x not in list\n",
      "Exception in Tkinter callback\n",
      "Traceback (most recent call last):\n",
      "  File \"/opt/anaconda3/envs/mypytorch/lib/python3.7/tkinter/__init__.py\", line 1705, in __call__\n",
      "    return self.func(*args)\n",
      "  File \"/Users/hujiaxin/Desktop/MLCMS-exercises-main/EX1/grid.py\", line 301, in start_simulation\n",
      "    planning_grid, pedestrian_has_ended = pedestrian.move()  # try to move (time constraints)\n",
      "  File \"/Users/hujiaxin/Desktop/MLCMS-exercises-main/EX1/pedestrian.py\", line 255, in move\n",
      "    self.actuate_move(self.planning_grid.grid, self.delta_row, self.delta_col, planning=True)\n",
      "  File \"/Users/hujiaxin/Desktop/MLCMS-exercises-main/EX1/pedestrian.py\", line 225, in actuate_move\n",
      "    (self.row + self.delta_row, self.col + self.delta_col))\n",
      "  File \"/Users/hujiaxin/Desktop/MLCMS-exercises-main/EX1/planning_grid.py\", line 49, in update_pedestrian_list\n",
      "    self.pedestrian_list.remove(old_coord)\n",
      "ValueError: list.remove(x): x not in list\n"
     ]
    },
    {
     "name": "stdout",
     "output_type": "stream",
     "text": [
      "Entering simulation mode..\n"
     ]
    },
    {
     "name": "stderr",
     "output_type": "stream",
     "text": [
      "Exception in Tkinter callback\n",
      "Traceback (most recent call last):\n",
      "  File \"/opt/anaconda3/envs/mypytorch/lib/python3.7/tkinter/__init__.py\", line 1705, in __call__\n",
      "    return self.func(*args)\n",
      "  File \"/Users/hujiaxin/Desktop/MLCMS-exercises-main/EX1/grid.py\", line 301, in start_simulation\n",
      "    planning_grid, pedestrian_has_ended = pedestrian.move()  # try to move (time constraints)\n",
      "  File \"/Users/hujiaxin/Desktop/MLCMS-exercises-main/EX1/pedestrian.py\", line 255, in move\n",
      "    self.actuate_move(self.planning_grid.grid, self.delta_row, self.delta_col, planning=True)\n",
      "  File \"/Users/hujiaxin/Desktop/MLCMS-exercises-main/EX1/pedestrian.py\", line 225, in actuate_move\n",
      "    (self.row + self.delta_row, self.col + self.delta_col))\n",
      "  File \"/Users/hujiaxin/Desktop/MLCMS-exercises-main/EX1/planning_grid.py\", line 49, in update_pedestrian_list\n",
      "    self.pedestrian_list.remove(old_coord)\n",
      "ValueError: list.remove(x): x not in list\n"
     ]
    },
    {
     "name": "stdout",
     "output_type": "stream",
     "text": [
      "Entering simulation mode..\n",
      "Pedestrian reached target in: 15.6 with a speed of: 1.0 (expected speed was:  1.0 )\n"
     ]
    },
    {
     "name": "stderr",
     "output_type": "stream",
     "text": [
      "Exception in Tkinter callback\n",
      "Traceback (most recent call last):\n",
      "  File \"/opt/anaconda3/envs/mypytorch/lib/python3.7/tkinter/__init__.py\", line 1705, in __call__\n",
      "    return self.func(*args)\n",
      "  File \"/Users/hujiaxin/Desktop/MLCMS-exercises-main/EX1/grid.py\", line 301, in start_simulation\n",
      "    planning_grid, pedestrian_has_ended = pedestrian.move()  # try to move (time constraints)\n",
      "  File \"/Users/hujiaxin/Desktop/MLCMS-exercises-main/EX1/pedestrian.py\", line 255, in move\n",
      "    self.actuate_move(self.planning_grid.grid, self.delta_row, self.delta_col, planning=True)\n",
      "  File \"/Users/hujiaxin/Desktop/MLCMS-exercises-main/EX1/pedestrian.py\", line 225, in actuate_move\n",
      "    (self.row + self.delta_row, self.col + self.delta_col))\n",
      "  File \"/Users/hujiaxin/Desktop/MLCMS-exercises-main/EX1/planning_grid.py\", line 49, in update_pedestrian_list\n",
      "    self.pedestrian_list.remove(old_coord)\n",
      "ValueError: list.remove(x): x not in list\n",
      "Exception in Tkinter callback\n",
      "Traceback (most recent call last):\n",
      "  File \"/opt/anaconda3/envs/mypytorch/lib/python3.7/tkinter/__init__.py\", line 1705, in __call__\n",
      "    return self.func(*args)\n",
      "  File \"/Users/hujiaxin/Desktop/MLCMS-exercises-main/EX1/grid.py\", line 301, in start_simulation\n",
      "    planning_grid, pedestrian_has_ended = pedestrian.move()  # try to move (time constraints)\n",
      "  File \"/Users/hujiaxin/Desktop/MLCMS-exercises-main/EX1/pedestrian.py\", line 255, in move\n",
      "    self.actuate_move(self.planning_grid.grid, self.delta_row, self.delta_col, planning=True)\n",
      "  File \"/Users/hujiaxin/Desktop/MLCMS-exercises-main/EX1/pedestrian.py\", line 225, in actuate_move\n",
      "    (self.row + self.delta_row, self.col + self.delta_col))\n",
      "  File \"/Users/hujiaxin/Desktop/MLCMS-exercises-main/EX1/planning_grid.py\", line 49, in update_pedestrian_list\n",
      "    self.pedestrian_list.remove(old_coord)\n",
      "ValueError: list.remove(x): x not in list\n"
     ]
    },
    {
     "name": "stdout",
     "output_type": "stream",
     "text": [
      "Entering simulation mode..\n",
      "Entering simulation mode..\n"
     ]
    },
    {
     "name": "stderr",
     "output_type": "stream",
     "text": [
      "Exception in Tkinter callback\n",
      "Traceback (most recent call last):\n",
      "  File \"/opt/anaconda3/envs/mypytorch/lib/python3.7/tkinter/__init__.py\", line 1705, in __call__\n",
      "    return self.func(*args)\n",
      "  File \"/Users/hujiaxin/Desktop/MLCMS-exercises-main/EX1/grid.py\", line 301, in start_simulation\n",
      "    planning_grid, pedestrian_has_ended = pedestrian.move()  # try to move (time constraints)\n",
      "  File \"/Users/hujiaxin/Desktop/MLCMS-exercises-main/EX1/pedestrian.py\", line 255, in move\n",
      "    self.actuate_move(self.planning_grid.grid, self.delta_row, self.delta_col, planning=True)\n",
      "  File \"/Users/hujiaxin/Desktop/MLCMS-exercises-main/EX1/pedestrian.py\", line 225, in actuate_move\n",
      "    (self.row + self.delta_row, self.col + self.delta_col))\n",
      "  File \"/Users/hujiaxin/Desktop/MLCMS-exercises-main/EX1/planning_grid.py\", line 49, in update_pedestrian_list\n",
      "    self.pedestrian_list.remove(old_coord)\n",
      "ValueError: list.remove(x): x not in list\n"
     ]
    },
    {
     "name": "stdout",
     "output_type": "stream",
     "text": [
      "Entering simulation mode..\n",
      "Pedestrian reached target in: 15.6 with a speed of: 1.0 (expected speed was:  1.0 )\n",
      "Entering simulation mode..\n",
      "Entering simulation mode..\n",
      "Entering simulation mode..\n",
      "Entering simulation mode..\n",
      "Entering simulation mode..\n",
      "Entering simulation mode..\n",
      "Entering simulation mode..\n",
      "Entering simulation mode..\n",
      "Entering simulation mode..\n",
      "Entering simulation mode..\n",
      "Entering simulation mode..\n",
      "Entering simulation mode..\n",
      "Entering simulation mode..\n",
      "Entering simulation mode..\n",
      "Entering simulation mode..\n",
      "Entering simulation mode..\n",
      "Pedestrian reached target in: 21.0 with a speed of: 1.0 (expected speed was:  1.0 )\n"
     ]
    },
    {
     "name": "stderr",
     "output_type": "stream",
     "text": [
      "Exception in Tkinter callback\n",
      "Traceback (most recent call last):\n",
      "  File \"/opt/anaconda3/envs/mypytorch/lib/python3.7/tkinter/__init__.py\", line 1705, in __call__\n",
      "    return self.func(*args)\n",
      "  File \"/Users/hujiaxin/Desktop/MLCMS-exercises-main/EX1/grid.py\", line 297, in start_simulation\n",
      "    while len(self.pedestrian_list) != 0:\n",
      "TypeError: object of type 'NoneType' has no len()\n",
      "Exception in Tkinter callback\n",
      "Traceback (most recent call last):\n",
      "  File \"/opt/anaconda3/envs/mypytorch/lib/python3.7/tkinter/__init__.py\", line 1705, in __call__\n",
      "    return self.func(*args)\n",
      "  File \"/Users/hujiaxin/Desktop/MLCMS-exercises-main/EX1/grid.py\", line 297, in start_simulation\n",
      "    while len(self.pedestrian_list) != 0:\n",
      "TypeError: object of type 'NoneType' has no len()\n",
      "Exception in Tkinter callback\n",
      "Traceback (most recent call last):\n",
      "  File \"/opt/anaconda3/envs/mypytorch/lib/python3.7/tkinter/__init__.py\", line 1705, in __call__\n",
      "    return self.func(*args)\n",
      "  File \"/Users/hujiaxin/Desktop/MLCMS-exercises-main/EX1/grid.py\", line 297, in start_simulation\n",
      "    while len(self.pedestrian_list) != 0:\n",
      "TypeError: object of type 'NoneType' has no len()\n",
      "Exception in Tkinter callback\n",
      "Traceback (most recent call last):\n",
      "  File \"/opt/anaconda3/envs/mypytorch/lib/python3.7/tkinter/__init__.py\", line 1705, in __call__\n",
      "    return self.func(*args)\n",
      "  File \"/Users/hujiaxin/Desktop/MLCMS-exercises-main/EX1/grid.py\", line 297, in start_simulation\n",
      "    while len(self.pedestrian_list) != 0:\n",
      "TypeError: object of type 'NoneType' has no len()\n",
      "Exception in Tkinter callback\n",
      "Traceback (most recent call last):\n",
      "  File \"/opt/anaconda3/envs/mypytorch/lib/python3.7/tkinter/__init__.py\", line 1705, in __call__\n",
      "    return self.func(*args)\n",
      "  File \"/Users/hujiaxin/Desktop/MLCMS-exercises-main/EX1/grid.py\", line 297, in start_simulation\n",
      "    while len(self.pedestrian_list) != 0:\n",
      "TypeError: object of type 'NoneType' has no len()\n",
      "Exception in Tkinter callback\n",
      "Traceback (most recent call last):\n",
      "  File \"/opt/anaconda3/envs/mypytorch/lib/python3.7/tkinter/__init__.py\", line 1705, in __call__\n",
      "    return self.func(*args)\n",
      "  File \"/Users/hujiaxin/Desktop/MLCMS-exercises-main/EX1/grid.py\", line 297, in start_simulation\n",
      "    while len(self.pedestrian_list) != 0:\n",
      "TypeError: object of type 'NoneType' has no len()\n",
      "Exception in Tkinter callback\n",
      "Traceback (most recent call last):\n",
      "  File \"/opt/anaconda3/envs/mypytorch/lib/python3.7/tkinter/__init__.py\", line 1705, in __call__\n",
      "    return self.func(*args)\n",
      "  File \"/Users/hujiaxin/Desktop/MLCMS-exercises-main/EX1/grid.py\", line 297, in start_simulation\n",
      "    while len(self.pedestrian_list) != 0:\n",
      "TypeError: object of type 'NoneType' has no len()\n",
      "Exception in Tkinter callback\n",
      "Traceback (most recent call last):\n",
      "  File \"/opt/anaconda3/envs/mypytorch/lib/python3.7/tkinter/__init__.py\", line 1705, in __call__\n",
      "    return self.func(*args)\n",
      "  File \"/Users/hujiaxin/Desktop/MLCMS-exercises-main/EX1/grid.py\", line 297, in start_simulation\n",
      "    while len(self.pedestrian_list) != 0:\n",
      "TypeError: object of type 'NoneType' has no len()\n",
      "Exception in Tkinter callback\n",
      "Traceback (most recent call last):\n",
      "  File \"/opt/anaconda3/envs/mypytorch/lib/python3.7/tkinter/__init__.py\", line 1705, in __call__\n",
      "    return self.func(*args)\n",
      "  File \"/Users/hujiaxin/Desktop/MLCMS-exercises-main/EX1/grid.py\", line 297, in start_simulation\n",
      "    while len(self.pedestrian_list) != 0:\n",
      "TypeError: object of type 'NoneType' has no len()\n",
      "Exception in Tkinter callback\n",
      "Traceback (most recent call last):\n",
      "  File \"/opt/anaconda3/envs/mypytorch/lib/python3.7/tkinter/__init__.py\", line 1705, in __call__\n",
      "    return self.func(*args)\n",
      "  File \"/Users/hujiaxin/Desktop/MLCMS-exercises-main/EX1/grid.py\", line 297, in start_simulation\n",
      "    while len(self.pedestrian_list) != 0:\n",
      "TypeError: object of type 'NoneType' has no len()\n",
      "Exception in Tkinter callback\n",
      "Traceback (most recent call last):\n",
      "  File \"/opt/anaconda3/envs/mypytorch/lib/python3.7/tkinter/__init__.py\", line 1705, in __call__\n",
      "    return self.func(*args)\n",
      "  File \"/Users/hujiaxin/Desktop/MLCMS-exercises-main/EX1/grid.py\", line 297, in start_simulation\n",
      "    while len(self.pedestrian_list) != 0:\n",
      "TypeError: object of type 'NoneType' has no len()\n",
      "Exception in Tkinter callback\n",
      "Traceback (most recent call last):\n",
      "  File \"/opt/anaconda3/envs/mypytorch/lib/python3.7/tkinter/__init__.py\", line 1705, in __call__\n",
      "    return self.func(*args)\n",
      "  File \"/Users/hujiaxin/Desktop/MLCMS-exercises-main/EX1/grid.py\", line 297, in start_simulation\n",
      "    while len(self.pedestrian_list) != 0:\n",
      "TypeError: object of type 'NoneType' has no len()\n",
      "Exception in Tkinter callback\n",
      "Traceback (most recent call last):\n",
      "  File \"/opt/anaconda3/envs/mypytorch/lib/python3.7/tkinter/__init__.py\", line 1705, in __call__\n",
      "    return self.func(*args)\n",
      "  File \"/Users/hujiaxin/Desktop/MLCMS-exercises-main/EX1/grid.py\", line 297, in start_simulation\n",
      "    while len(self.pedestrian_list) != 0:\n",
      "TypeError: object of type 'NoneType' has no len()\n",
      "Exception in Tkinter callback\n",
      "Traceback (most recent call last):\n",
      "  File \"/opt/anaconda3/envs/mypytorch/lib/python3.7/tkinter/__init__.py\", line 1705, in __call__\n",
      "    return self.func(*args)\n",
      "  File \"/Users/hujiaxin/Desktop/MLCMS-exercises-main/EX1/grid.py\", line 297, in start_simulation\n",
      "    while len(self.pedestrian_list) != 0:\n",
      "TypeError: object of type 'NoneType' has no len()\n",
      "Exception in Tkinter callback\n",
      "Traceback (most recent call last):\n",
      "  File \"/opt/anaconda3/envs/mypytorch/lib/python3.7/tkinter/__init__.py\", line 1705, in __call__\n",
      "    return self.func(*args)\n",
      "  File \"/Users/hujiaxin/Desktop/MLCMS-exercises-main/EX1/grid.py\", line 297, in start_simulation\n",
      "    while len(self.pedestrian_list) != 0:\n",
      "TypeError: object of type 'NoneType' has no len()\n",
      "Exception in Tkinter callback\n",
      "Traceback (most recent call last):\n",
      "  File \"/opt/anaconda3/envs/mypytorch/lib/python3.7/tkinter/__init__.py\", line 1705, in __call__\n",
      "    return self.func(*args)\n",
      "  File \"/Users/hujiaxin/Desktop/MLCMS-exercises-main/EX1/grid.py\", line 297, in start_simulation\n",
      "    while len(self.pedestrian_list) != 0:\n",
      "TypeError: object of type 'NoneType' has no len()\n"
     ]
    },
    {
     "name": "stdout",
     "output_type": "stream",
     "text": [
      "Entering simulation mode..\n"
     ]
    }
   ],
   "source": [
    "app = Tk()\n",
    "setup_task_1(app)\n",
    "app.mainloop()"
   ]
  },
  {
   "cell_type": "markdown",
   "metadata": {},
   "source": [
    "## TASK 2\n",
    "\n",
    "First step of a single pedestrian: define a scenario of 50 by 50, start a single pedestrian at position (5,25) and a target at (25,25). Simulate the scenario."
   ]
  },
  {
   "cell_type": "code",
   "execution_count": 4,
   "metadata": {
    "scrolled": true
   },
   "outputs": [],
   "source": [
    "app = Tk()\n",
    "setup_task_2(app)\n",
    "app.mainloop()"
   ]
  },
  {
   "cell_type": "markdown",
   "metadata": {},
   "source": [
    "## TASK 3\n",
    "\n",
    "Interaction of pedestrians: define a scenario where 5 pedestrians move to a target starting from roughly the same distance, proving the correctness of the implementation by showing how they take the same time to arrive"
   ]
  },
  {
   "cell_type": "code",
   "execution_count": 5,
   "metadata": {
    "scrolled": true
   },
   "outputs": [],
   "source": [
    "app = Tk()\n",
    "setup_task_3(app)\n",
    "app.mainloop()"
   ]
  },
  {
   "cell_type": "markdown",
   "metadata": {
    "pycharm": {
     "name": "#%% md\n"
    }
   },
   "source": [
    "## TASK 4\n",
    "\n",
    "Obstacle avoidance:\n",
    "1. Rudimentary obstacle avoidance: pedestrians simply don't step on other pedestrians and obstacles\n",
    "2. Dijkstra's algorithm: each pedestrian finds the actual best path to reach a destination\n",
    "\n",
    "Try to execute the next cell either checking or not the Dijkstra checkbox.\n",
    "If Dijkstra is enabled, the pedestrian will be able to overcome the chicken test,\n",
    "otherwise it will be stuck in the trap."
   ]
  },
  {
   "cell_type": "code",
   "execution_count": 7,
   "metadata": {
    "pycharm": {
     "name": "#%%\n"
    }
   },
   "outputs": [],
   "source": [
    "app = Tk()\n",
    "setup_task_4(app)\n",
    "app.mainloop()\n"
   ]
  },
  {
   "cell_type": "markdown",
   "metadata": {
    "pycharm": {
     "name": "#%% md\n"
    }
   },
   "source": [
    "## TASK 5\n",
    "\n",
    "RiMEA scenario 1:"
   ]
  },
  {
   "cell_type": "code",
   "execution_count": 9,
   "metadata": {
    "pycharm": {
     "name": "#%%\n"
    }
   },
   "outputs": [],
   "source": [
    "rimea_test_1()"
   ]
  },
  {
   "cell_type": "markdown",
   "metadata": {
    "pycharm": {
     "name": "#%% md\n"
    }
   },
   "source": [
    "RiMEA scenario 4:"
   ]
  },
  {
   "cell_type": "code",
   "execution_count": 10,
   "metadata": {
    "pycharm": {
     "name": "#%%\n"
    }
   },
   "outputs": [
    {
     "name": "stdout",
     "output_type": "stream",
     "text": [
      "PRODUCING 346 PEDESTRIANS IN AN AREA OF 693 CELLS\n"
     ]
    }
   ],
   "source": [
    "rimea_test_4()"
   ]
  },
  {
   "cell_type": "markdown",
   "metadata": {
    "pycharm": {
     "name": "#%% md\n"
    }
   },
   "source": [
    "RiMEA scenario 6:"
   ]
  },
  {
   "cell_type": "code",
   "execution_count": 11,
   "metadata": {
    "pycharm": {
     "name": "#%%\n"
    }
   },
   "outputs": [],
   "source": [
    "rimea_test_6()"
   ]
  },
  {
   "cell_type": "markdown",
   "metadata": {
    "pycharm": {
     "name": "#%% md\n"
    }
   },
   "source": [
    "RiMEA scenario 7:"
   ]
  },
  {
   "cell_type": "code",
   "execution_count": 12,
   "metadata": {
    "pycharm": {
     "name": "#%%\n"
    }
   },
   "outputs": [
    {
     "ename": "ZeroDivisionError",
     "evalue": "division by zero",
     "output_type": "error",
     "traceback": [
      "\u001b[0;31m---------------------------------------------------------------------------\u001b[0m",
      "\u001b[0;31mZeroDivisionError\u001b[0m                         Traceback (most recent call last)",
      "\u001b[0;32m/var/folders/vw/3cjp4q1d79l9b04xsx55f_s40000gn/T/ipykernel_39013/12479721.py\u001b[0m in \u001b[0;36m<module>\u001b[0;34m\u001b[0m\n\u001b[0;32m----> 1\u001b[0;31m \u001b[0mrimea_test_7\u001b[0m\u001b[0;34m(\u001b[0m\u001b[0;34m)\u001b[0m\u001b[0;34m\u001b[0m\u001b[0;34m\u001b[0m\u001b[0m\n\u001b[0m",
      "\u001b[0;32m~/Desktop/MLCMS-exercises-main/EX1/utils.py\u001b[0m in \u001b[0;36mrimea_test_7\u001b[0;34m(num_pedestrians, screen_width)\u001b[0m\n\u001b[1;32m    209\u001b[0m     ]\n\u001b[1;32m    210\u001b[0m     \u001b[0mapp\u001b[0m\u001b[0;34m.\u001b[0m\u001b[0mmainloop\u001b[0m\u001b[0;34m(\u001b[0m\u001b[0;34m)\u001b[0m\u001b[0;34m\u001b[0m\u001b[0;34m\u001b[0m\u001b[0m\n\u001b[0;32m--> 211\u001b[0;31m     \u001b[0mprint\u001b[0m\u001b[0;34m(\u001b[0m\u001b[0;34m\"Measured Average Speed: \"\u001b[0m\u001b[0;34m,\u001b[0m \u001b[0msum\u001b[0m\u001b[0;34m(\u001b[0m\u001b[0mgrid\u001b[0m\u001b[0;34m.\u001b[0m\u001b[0mpedestrian_speeds\u001b[0m\u001b[0;34m)\u001b[0m \u001b[0;34m/\u001b[0m \u001b[0mlen\u001b[0m\u001b[0;34m(\u001b[0m\u001b[0mgrid\u001b[0m\u001b[0;34m.\u001b[0m\u001b[0mpedestrian_speeds\u001b[0m\u001b[0;34m)\u001b[0m\u001b[0;34m)\u001b[0m\u001b[0;34m\u001b[0m\u001b[0;34m\u001b[0m\u001b[0m\n\u001b[0m\u001b[1;32m    212\u001b[0m     \u001b[0mprint\u001b[0m\u001b[0;34m(\u001b[0m\u001b[0;34m\"Expected Average Speed: \"\u001b[0m\u001b[0;34m,\u001b[0m \u001b[0msum\u001b[0m\u001b[0;34m(\u001b[0m\u001b[0mspeed_list\u001b[0m\u001b[0;34m)\u001b[0m \u001b[0;34m/\u001b[0m \u001b[0mlen\u001b[0m\u001b[0;34m(\u001b[0m\u001b[0mspeed_list\u001b[0m\u001b[0;34m)\u001b[0m\u001b[0;34m)\u001b[0m\u001b[0;34m\u001b[0m\u001b[0;34m\u001b[0m\u001b[0m\n\u001b[1;32m    213\u001b[0m \u001b[0;34m\u001b[0m\u001b[0m\n",
      "\u001b[0;31mZeroDivisionError\u001b[0m: division by zero"
     ]
    }
   ],
   "source": [
    "rimea_test_7()\n"
   ]
  },
  {
   "cell_type": "code",
   "execution_count": null,
   "metadata": {},
   "outputs": [],
   "source": []
  }
 ],
 "metadata": {
  "kernelspec": {
   "display_name": "Python 3 (ipykernel)",
   "language": "python",
   "name": "python3"
  },
  "language_info": {
   "codemirror_mode": {
    "name": "ipython",
    "version": 3
   },
   "file_extension": ".py",
   "mimetype": "text/x-python",
   "name": "python",
   "nbconvert_exporter": "python",
   "pygments_lexer": "ipython3",
   "version": "3.7.11"
  }
 },
 "nbformat": 4,
 "nbformat_minor": 4
}
