{
 "cells": [
  {
   "cell_type": "markdown",
   "id": "2458896f-d0ec-427e-a41a-4bffcc26117d",
   "metadata": {},
   "source": [
    "# Task 3: Interaction of pedestrians"
   ]
  },
  {
   "cell_type": "markdown",
   "id": "2bc0636f-f9a2-43c2-bc96-15c9a1c44d0b",
   "metadata": {},
   "source": [
    "## Imports"
   ]
  },
  {
   "cell_type": "code",
   "execution_count": 81,
   "id": "ab7ac585-5271-4820-933d-f5f2f4e74dac",
   "metadata": {},
   "outputs": [],
   "source": [
    "import numpy as np\n",
    "from tkinter import *\n",
    "from CellGrid import *\n",
    "from Simulation import *\n",
    "from visualize import target_grid_to_image\n",
    "from update_state import *\n",
    "from prepare_setup import *\n",
    "from distance import *\n",
    "import time\n",
    "\n",
    "%reload_ext autoreload\n",
    "%autoreload 2"
   ]
  },
  {
   "cell_type": "markdown",
   "id": "1326a3e3-d68a-4e34-90d3-f8c518baea02",
   "metadata": {},
   "source": [
    "# Define the setup for Task 3"
   ]
  },
  {
   "cell_type": "code",
   "execution_count": 82,
   "id": "fa4788fc-8369-4466-a1a0-48a8f5c147e3",
   "metadata": {},
   "outputs": [],
   "source": [
    "Grid = CellGrid(None, 61, 61, 20)\n",
    "Grid.grid[0][30].state = 'pedestrian'\n",
    "Grid.grid[18][59].state = 'pedestrian'\n",
    "Grid.grid[40][59].state = 'pedestrian'\n",
    "Grid.grid[19][0].state = 'pedestrian'\n",
    "Grid.grid[39][0].state = 'pedestrian'\n",
    "Grid.grid[30][30].state = 'target'\n",
    "\n",
    "Grid, pedestrians, targets, distance_matrix = prepare_setup(Grid)\n",
    "root = Tk()"
   ]
  },
  {
   "cell_type": "code",
   "execution_count": null,
   "id": "60bb15fc-fe00-4121-8581-1b8bc59f16db",
   "metadata": {},
   "outputs": [
    {
     "name": "stdout",
     "output_type": "stream",
     "text": [
      "1\n",
      "2\n",
      "3\n",
      "4\n",
      "5\n",
      "6\n",
      "7\n",
      "8\n",
      "9\n",
      "10\n",
      "11\n",
      "12\n",
      "13\n",
      "14\n",
      "15\n",
      "16\n",
      "17\n",
      "18\n",
      "19\n",
      "20\n",
      "21\n",
      "22\n",
      "23\n",
      "24\n",
      "25\n",
      "26\n",
      "27\n",
      "28\n",
      "29\n",
      "30\n"
     ]
    }
   ],
   "source": [
    "application = Simulation(None, 61, 61, 20, Grid.grid, pedestrians, targets, distance_matrix,30)\n",
    "application.pack()\n",
    "\n",
    "root.mainloop()"
   ]
  },
  {
   "cell_type": "code",
   "execution_count": null,
   "id": "6c37c519-0535-4577-9985-5e6223bd8f86",
   "metadata": {},
   "outputs": [],
   "source": []
  }
 ],
 "metadata": {
  "kernelspec": {
   "display_name": "Python 3 (ipykernel)",
   "language": "python",
   "name": "python3"
  },
  "language_info": {
   "codemirror_mode": {
    "name": "ipython",
    "version": 3
   },
   "file_extension": ".py",
   "mimetype": "text/x-python",
   "name": "python",
   "nbconvert_exporter": "python",
   "pygments_lexer": "ipython3",
   "version": "3.9.12"
  }
 },
 "nbformat": 4,
 "nbformat_minor": 5
}
